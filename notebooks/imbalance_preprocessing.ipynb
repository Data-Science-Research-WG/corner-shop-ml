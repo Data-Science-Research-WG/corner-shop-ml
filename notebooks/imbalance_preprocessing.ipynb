{
 "cells": [
  {
   "cell_type": "code",
   "execution_count": 1,
   "id": "807c6cce",
   "metadata": {},
   "outputs": [],
   "source": [
    "from imblearn import over_sampling\n",
    "import pandas as pd\n",
    "import numpy as np\n",
    "import sklearn\n",
    "import matplotlib.pyplot as plt\n",
    "from collections import Counter"
   ]
  },
  {
   "cell_type": "code",
   "execution_count": 2,
   "id": "1528aead",
   "metadata": {},
   "outputs": [],
   "source": [
    "plt.rcParams[\"figure.figsize\"] = (20,15)"
   ]
  },
  {
   "cell_type": "code",
   "execution_count": 3,
   "id": "a71ecb1c",
   "metadata": {},
   "outputs": [],
   "source": [
    "cs_data = pd.read_csv(\"features/cornershop_data.csv\")"
   ]
  },
  {
   "cell_type": "code",
   "execution_count": 4,
   "id": "22aa86bb",
   "metadata": {},
   "outputs": [
    {
     "data": {
      "text/html": [
       "<div>\n",
       "<style scoped>\n",
       "    .dataframe tbody tr th:only-of-type {\n",
       "        vertical-align: middle;\n",
       "    }\n",
       "\n",
       "    .dataframe tbody tr th {\n",
       "        vertical-align: top;\n",
       "    }\n",
       "\n",
       "    .dataframe thead th {\n",
       "        text-align: right;\n",
       "    }\n",
       "</style>\n",
       "<table border=\"1\" class=\"dataframe\">\n",
       "  <thead>\n",
       "    <tr style=\"text-align: right;\">\n",
       "      <th></th>\n",
       "      <th>session_id</th>\n",
       "      <th>customer_type</th>\n",
       "      <th>session_duration_microseconds</th>\n",
       "      <th>signed_up</th>\n",
       "      <th>pages_visited</th>\n",
       "      <th>app_removed</th>\n",
       "      <th>personalise_store_pageviews</th>\n",
       "      <th>purposeful_shelves_pageviews</th>\n",
       "      <th>digi_me_pageviews</th>\n",
       "      <th>homepage_duration_microseconds</th>\n",
       "      <th>...</th>\n",
       "      <th>entered_store</th>\n",
       "      <th>visited_purposeful_shelves</th>\n",
       "      <th>entered_dm</th>\n",
       "      <th>visited_digi_me</th>\n",
       "      <th>visited_personalised_store</th>\n",
       "      <th>entered_welcome</th>\n",
       "      <th>entered_purposeful_shelves</th>\n",
       "      <th>cos_month</th>\n",
       "      <th>cos_wday</th>\n",
       "      <th>completed_transaction</th>\n",
       "    </tr>\n",
       "  </thead>\n",
       "  <tbody>\n",
       "    <tr>\n",
       "      <th>731</th>\n",
       "      <td>1.660726e+09</td>\n",
       "      <td>0</td>\n",
       "      <td>0.000332</td>\n",
       "      <td>0</td>\n",
       "      <td>7</td>\n",
       "      <td>0</td>\n",
       "      <td>2</td>\n",
       "      <td>0</td>\n",
       "      <td>0</td>\n",
       "      <td>3.024343e-07</td>\n",
       "      <td>...</td>\n",
       "      <td>0.0</td>\n",
       "      <td>0.0</td>\n",
       "      <td>0.0</td>\n",
       "      <td>0.0</td>\n",
       "      <td>0.0</td>\n",
       "      <td>0.0</td>\n",
       "      <td>0.0</td>\n",
       "      <td>3.090170e-01</td>\n",
       "      <td>0.781831</td>\n",
       "      <td>0</td>\n",
       "    </tr>\n",
       "    <tr>\n",
       "      <th>5</th>\n",
       "      <td>1.664794e+09</td>\n",
       "      <td>0</td>\n",
       "      <td>0.000416</td>\n",
       "      <td>0</td>\n",
       "      <td>9</td>\n",
       "      <td>0</td>\n",
       "      <td>0</td>\n",
       "      <td>4</td>\n",
       "      <td>0</td>\n",
       "      <td>2.602278e-07</td>\n",
       "      <td>...</td>\n",
       "      <td>0.0</td>\n",
       "      <td>0.0</td>\n",
       "      <td>0.0</td>\n",
       "      <td>0.0</td>\n",
       "      <td>0.0</td>\n",
       "      <td>0.0</td>\n",
       "      <td>0.0</td>\n",
       "      <td>6.123234e-17</td>\n",
       "      <td>0.974928</td>\n",
       "      <td>0</td>\n",
       "    </tr>\n",
       "    <tr>\n",
       "      <th>651</th>\n",
       "      <td>1.658830e+09</td>\n",
       "      <td>0</td>\n",
       "      <td>0.000016</td>\n",
       "      <td>0</td>\n",
       "      <td>3</td>\n",
       "      <td>0</td>\n",
       "      <td>0</td>\n",
       "      <td>0</td>\n",
       "      <td>0</td>\n",
       "      <td>0.000000e+00</td>\n",
       "      <td>...</td>\n",
       "      <td>0.0</td>\n",
       "      <td>0.0</td>\n",
       "      <td>0.0</td>\n",
       "      <td>0.0</td>\n",
       "      <td>0.0</td>\n",
       "      <td>0.0</td>\n",
       "      <td>0.0</td>\n",
       "      <td>4.539905e-01</td>\n",
       "      <td>0.900969</td>\n",
       "      <td>0</td>\n",
       "    </tr>\n",
       "    <tr>\n",
       "      <th>476</th>\n",
       "      <td>1.663071e+09</td>\n",
       "      <td>0</td>\n",
       "      <td>0.013509</td>\n",
       "      <td>0</td>\n",
       "      <td>32</td>\n",
       "      <td>0</td>\n",
       "      <td>6</td>\n",
       "      <td>11</td>\n",
       "      <td>0</td>\n",
       "      <td>1.867965e-05</td>\n",
       "      <td>...</td>\n",
       "      <td>0.0</td>\n",
       "      <td>0.0</td>\n",
       "      <td>0.0</td>\n",
       "      <td>0.0</td>\n",
       "      <td>0.0</td>\n",
       "      <td>0.0</td>\n",
       "      <td>0.0</td>\n",
       "      <td>1.564345e-01</td>\n",
       "      <td>0.900969</td>\n",
       "      <td>0</td>\n",
       "    </tr>\n",
       "    <tr>\n",
       "      <th>78</th>\n",
       "      <td>1.655478e+09</td>\n",
       "      <td>0</td>\n",
       "      <td>0.000000</td>\n",
       "      <td>0</td>\n",
       "      <td>0</td>\n",
       "      <td>1</td>\n",
       "      <td>0</td>\n",
       "      <td>0</td>\n",
       "      <td>0</td>\n",
       "      <td>0.000000e+00</td>\n",
       "      <td>...</td>\n",
       "      <td>0.0</td>\n",
       "      <td>0.0</td>\n",
       "      <td>0.0</td>\n",
       "      <td>0.0</td>\n",
       "      <td>0.0</td>\n",
       "      <td>0.0</td>\n",
       "      <td>0.0</td>\n",
       "      <td>5.877853e-01</td>\n",
       "      <td>0.433884</td>\n",
       "      <td>0</td>\n",
       "    </tr>\n",
       "    <tr>\n",
       "      <th>1319</th>\n",
       "      <td>1.658406e+09</td>\n",
       "      <td>1</td>\n",
       "      <td>0.000169</td>\n",
       "      <td>0</td>\n",
       "      <td>7</td>\n",
       "      <td>0</td>\n",
       "      <td>0</td>\n",
       "      <td>0</td>\n",
       "      <td>0</td>\n",
       "      <td>0.000000e+00</td>\n",
       "      <td>...</td>\n",
       "      <td>0.0</td>\n",
       "      <td>0.0</td>\n",
       "      <td>0.0</td>\n",
       "      <td>0.0</td>\n",
       "      <td>0.0</td>\n",
       "      <td>0.0</td>\n",
       "      <td>0.0</td>\n",
       "      <td>4.539905e-01</td>\n",
       "      <td>0.623490</td>\n",
       "      <td>0</td>\n",
       "    </tr>\n",
       "    <tr>\n",
       "      <th>464</th>\n",
       "      <td>1.656329e+09</td>\n",
       "      <td>0</td>\n",
       "      <td>0.003521</td>\n",
       "      <td>0</td>\n",
       "      <td>10</td>\n",
       "      <td>0</td>\n",
       "      <td>8</td>\n",
       "      <td>0</td>\n",
       "      <td>0</td>\n",
       "      <td>3.228544e-04</td>\n",
       "      <td>...</td>\n",
       "      <td>0.0</td>\n",
       "      <td>0.0</td>\n",
       "      <td>0.0</td>\n",
       "      <td>0.0</td>\n",
       "      <td>0.0</td>\n",
       "      <td>0.0</td>\n",
       "      <td>0.0</td>\n",
       "      <td>5.877853e-01</td>\n",
       "      <td>0.974928</td>\n",
       "      <td>0</td>\n",
       "    </tr>\n",
       "    <tr>\n",
       "      <th>67</th>\n",
       "      <td>1.648725e+09</td>\n",
       "      <td>0</td>\n",
       "      <td>0.000114</td>\n",
       "      <td>0</td>\n",
       "      <td>2</td>\n",
       "      <td>0</td>\n",
       "      <td>0</td>\n",
       "      <td>0</td>\n",
       "      <td>0</td>\n",
       "      <td>2.628638e-01</td>\n",
       "      <td>...</td>\n",
       "      <td>0.0</td>\n",
       "      <td>0.0</td>\n",
       "      <td>0.0</td>\n",
       "      <td>0.0</td>\n",
       "      <td>0.0</td>\n",
       "      <td>0.0</td>\n",
       "      <td>0.0</td>\n",
       "      <td>8.910065e-01</td>\n",
       "      <td>0.623490</td>\n",
       "      <td>0</td>\n",
       "    </tr>\n",
       "    <tr>\n",
       "      <th>1248</th>\n",
       "      <td>1.659696e+09</td>\n",
       "      <td>1</td>\n",
       "      <td>0.005559</td>\n",
       "      <td>0</td>\n",
       "      <td>8</td>\n",
       "      <td>0</td>\n",
       "      <td>0</td>\n",
       "      <td>0</td>\n",
       "      <td>0</td>\n",
       "      <td>0.000000e+00</td>\n",
       "      <td>...</td>\n",
       "      <td>0.0</td>\n",
       "      <td>0.0</td>\n",
       "      <td>0.0</td>\n",
       "      <td>0.0</td>\n",
       "      <td>0.0</td>\n",
       "      <td>0.0</td>\n",
       "      <td>0.0</td>\n",
       "      <td>3.090170e-01</td>\n",
       "      <td>0.433884</td>\n",
       "      <td>0</td>\n",
       "    </tr>\n",
       "    <tr>\n",
       "      <th>471</th>\n",
       "      <td>1.663760e+09</td>\n",
       "      <td>0</td>\n",
       "      <td>0.007972</td>\n",
       "      <td>0</td>\n",
       "      <td>12</td>\n",
       "      <td>0</td>\n",
       "      <td>0</td>\n",
       "      <td>0</td>\n",
       "      <td>0</td>\n",
       "      <td>1.138379e-03</td>\n",
       "      <td>...</td>\n",
       "      <td>0.0</td>\n",
       "      <td>0.0</td>\n",
       "      <td>0.0</td>\n",
       "      <td>0.0</td>\n",
       "      <td>0.0</td>\n",
       "      <td>0.0</td>\n",
       "      <td>0.0</td>\n",
       "      <td>1.564345e-01</td>\n",
       "      <td>0.781831</td>\n",
       "      <td>0</td>\n",
       "    </tr>\n",
       "  </tbody>\n",
       "</table>\n",
       "<p>10 rows × 27 columns</p>\n",
       "</div>"
      ],
      "text/plain": [
       "        session_id  customer_type  session_duration_microseconds  signed_up  \\\n",
       "731   1.660726e+09              0                       0.000332          0   \n",
       "5     1.664794e+09              0                       0.000416          0   \n",
       "651   1.658830e+09              0                       0.000016          0   \n",
       "476   1.663071e+09              0                       0.013509          0   \n",
       "78    1.655478e+09              0                       0.000000          0   \n",
       "1319  1.658406e+09              1                       0.000169          0   \n",
       "464   1.656329e+09              0                       0.003521          0   \n",
       "67    1.648725e+09              0                       0.000114          0   \n",
       "1248  1.659696e+09              1                       0.005559          0   \n",
       "471   1.663760e+09              0                       0.007972          0   \n",
       "\n",
       "      pages_visited  app_removed  personalise_store_pageviews  \\\n",
       "731               7            0                            2   \n",
       "5                 9            0                            0   \n",
       "651               3            0                            0   \n",
       "476              32            0                            6   \n",
       "78                0            1                            0   \n",
       "1319              7            0                            0   \n",
       "464              10            0                            8   \n",
       "67                2            0                            0   \n",
       "1248              8            0                            0   \n",
       "471              12            0                            0   \n",
       "\n",
       "      purposeful_shelves_pageviews  digi_me_pageviews  \\\n",
       "731                              0                  0   \n",
       "5                                4                  0   \n",
       "651                              0                  0   \n",
       "476                             11                  0   \n",
       "78                               0                  0   \n",
       "1319                             0                  0   \n",
       "464                              0                  0   \n",
       "67                               0                  0   \n",
       "1248                             0                  0   \n",
       "471                              0                  0   \n",
       "\n",
       "      homepage_duration_microseconds  ...  entered_store  \\\n",
       "731                     3.024343e-07  ...            0.0   \n",
       "5                       2.602278e-07  ...            0.0   \n",
       "651                     0.000000e+00  ...            0.0   \n",
       "476                     1.867965e-05  ...            0.0   \n",
       "78                      0.000000e+00  ...            0.0   \n",
       "1319                    0.000000e+00  ...            0.0   \n",
       "464                     3.228544e-04  ...            0.0   \n",
       "67                      2.628638e-01  ...            0.0   \n",
       "1248                    0.000000e+00  ...            0.0   \n",
       "471                     1.138379e-03  ...            0.0   \n",
       "\n",
       "      visited_purposeful_shelves  entered_dm  visited_digi_me  \\\n",
       "731                          0.0         0.0              0.0   \n",
       "5                            0.0         0.0              0.0   \n",
       "651                          0.0         0.0              0.0   \n",
       "476                          0.0         0.0              0.0   \n",
       "78                           0.0         0.0              0.0   \n",
       "1319                         0.0         0.0              0.0   \n",
       "464                          0.0         0.0              0.0   \n",
       "67                           0.0         0.0              0.0   \n",
       "1248                         0.0         0.0              0.0   \n",
       "471                          0.0         0.0              0.0   \n",
       "\n",
       "      visited_personalised_store  entered_welcome  entered_purposeful_shelves  \\\n",
       "731                          0.0              0.0                         0.0   \n",
       "5                            0.0              0.0                         0.0   \n",
       "651                          0.0              0.0                         0.0   \n",
       "476                          0.0              0.0                         0.0   \n",
       "78                           0.0              0.0                         0.0   \n",
       "1319                         0.0              0.0                         0.0   \n",
       "464                          0.0              0.0                         0.0   \n",
       "67                           0.0              0.0                         0.0   \n",
       "1248                         0.0              0.0                         0.0   \n",
       "471                          0.0              0.0                         0.0   \n",
       "\n",
       "         cos_month  cos_wday  completed_transaction  \n",
       "731   3.090170e-01  0.781831                      0  \n",
       "5     6.123234e-17  0.974928                      0  \n",
       "651   4.539905e-01  0.900969                      0  \n",
       "476   1.564345e-01  0.900969                      0  \n",
       "78    5.877853e-01  0.433884                      0  \n",
       "1319  4.539905e-01  0.623490                      0  \n",
       "464   5.877853e-01  0.974928                      0  \n",
       "67    8.910065e-01  0.623490                      0  \n",
       "1248  3.090170e-01  0.433884                      0  \n",
       "471   1.564345e-01  0.781831                      0  \n",
       "\n",
       "[10 rows x 27 columns]"
      ]
     },
     "execution_count": 4,
     "metadata": {},
     "output_type": "execute_result"
    }
   ],
   "source": [
    "cs_data.sample(10)"
   ]
  },
  {
   "cell_type": "code",
   "execution_count": 5,
   "id": "effed0b6",
   "metadata": {},
   "outputs": [],
   "source": [
    "cs_data = cs_data.replace({np.NaN: 0})"
   ]
  },
  {
   "cell_type": "code",
   "execution_count": 6,
   "id": "f8c74b1b",
   "metadata": {},
   "outputs": [
    {
     "data": {
      "text/html": [
       "<div>\n",
       "<style scoped>\n",
       "    .dataframe tbody tr th:only-of-type {\n",
       "        vertical-align: middle;\n",
       "    }\n",
       "\n",
       "    .dataframe tbody tr th {\n",
       "        vertical-align: top;\n",
       "    }\n",
       "\n",
       "    .dataframe thead th {\n",
       "        text-align: right;\n",
       "    }\n",
       "</style>\n",
       "<table border=\"1\" class=\"dataframe\">\n",
       "  <thead>\n",
       "    <tr style=\"text-align: right;\">\n",
       "      <th></th>\n",
       "      <th>session_id</th>\n",
       "    </tr>\n",
       "    <tr>\n",
       "      <th>completed_transaction</th>\n",
       "      <th></th>\n",
       "    </tr>\n",
       "  </thead>\n",
       "  <tbody>\n",
       "    <tr>\n",
       "      <th>0</th>\n",
       "      <td>1358</td>\n",
       "    </tr>\n",
       "    <tr>\n",
       "      <th>1</th>\n",
       "      <td>24</td>\n",
       "    </tr>\n",
       "  </tbody>\n",
       "</table>\n",
       "</div>"
      ],
      "text/plain": [
       "                       session_id\n",
       "completed_transaction            \n",
       "0                            1358\n",
       "1                              24"
      ]
     },
     "execution_count": 6,
     "metadata": {},
     "output_type": "execute_result"
    }
   ],
   "source": [
    "cs_data[['session_id', 'completed_transaction']].groupby('completed_transaction').count()"
   ]
  },
  {
   "cell_type": "markdown",
   "id": "f1128faa",
   "metadata": {},
   "source": [
    "Plotting out the graph based on two different features."
   ]
  },
  {
   "cell_type": "code",
   "execution_count": 7,
   "id": "0041db89",
   "metadata": {},
   "outputs": [
    {
     "data": {
      "text/plain": [
       "<matplotlib.legend.Legend at 0x2b73ca1acd0>"
      ]
     },
     "execution_count": 7,
     "metadata": {},
     "output_type": "execute_result"
    },
    {
     "data": {
      "image/png": "[encoded data removed]",
      "text/plain": [
       "<Figure size 1440x1080 with 1 Axes>"
      ]
     },
     "metadata": {
      "needs_background": "light"
     },
     "output_type": "display_data"
    }
   ],
   "source": [
    "groups = cs_data.groupby('completed_transaction')\n",
    "\n",
    "for name, group in groups:\n",
    "    plt.scatter(group.purposeful_shelves_pageviews, group.pages_visited, label=name)\n",
    "\n",
    "plt.legend()"
   ]
  },
  {
   "cell_type": "markdown",
   "id": "5ee74ca7",
   "metadata": {},
   "source": [
    "Separating features from target variable"
   ]
  },
  {
   "cell_type": "code",
   "execution_count": 8,
   "id": "8173d744",
   "metadata": {},
   "outputs": [],
   "source": [
    "y = cs_data['completed_transaction']\n",
    "x_cols = list(set(cs_data.columns) - set('completed_transaction'))\n",
    "X = cs_data[x_cols]"
   ]
  },
  {
   "cell_type": "code",
   "execution_count": 9,
   "id": "35d10515",
   "metadata": {},
   "outputs": [
    {
     "name": "stdout",
     "output_type": "stream",
     "text": [
      "completed_transaction\n",
      "\n",
      "\n",
      " Index(['quantity', 'visited_digi_me', 'app_removed', 'completed_transaction',\n",
      "       'entered_purposeful_shelves', 'visited_personalised_store',\n",
      "       'visited_purposeful_shelves', 'add_to_cart',\n",
      "       'session_duration_microseconds', 'digi_me_pageviews',\n",
      "       'notification_receive', 'cos_wday', 'personalise_store_pageviews',\n",
      "       'session_id', 'signed_up', 'notification_open',\n",
      "       'purposeful_shelves_pageviews', 'homepage_duration_microseconds',\n",
      "       'scan_qr', 'price', 'entered_welcome', 'cos_month', 'customer_type',\n",
      "       'entered_dm', 'pages_visited', 'total_cost', 'entered_store'],\n",
      "      dtype='object')\n"
     ]
    }
   ],
   "source": [
    "print(y.name)\n",
    "print(\"\\n\\n\", X.columns)"
   ]
  },
  {
   "cell_type": "code",
   "execution_count": 10,
   "id": "76799692",
   "metadata": {},
   "outputs": [
    {
     "name": "stdout",
     "output_type": "stream",
     "text": [
      "Counter({0: 1358, 1: 24})\n"
     ]
    }
   ],
   "source": [
    "counter = Counter(y)\n",
    "print(counter)"
   ]
  },
  {
   "cell_type": "markdown",
   "id": "71b95665",
   "metadata": {},
   "source": [
    "Oversampling with synthetic data using SMOTE"
   ]
  },
  {
   "cell_type": "code",
   "execution_count": 11,
   "id": "d7d17ea0",
   "metadata": {},
   "outputs": [],
   "source": [
    "oversample = over_sampling.SMOTE()\n",
    "X, y = oversample.fit_resample(X, y)"
   ]
  },
  {
   "cell_type": "code",
   "execution_count": 12,
   "id": "fbe2cdbd",
   "metadata": {},
   "outputs": [
    {
     "name": "stdout",
     "output_type": "stream",
     "text": [
      "Counter({0: 1358, 1: 1358})\n"
     ]
    }
   ],
   "source": [
    "counter = Counter(y)\n",
    "print(counter)"
   ]
  },
  {
   "cell_type": "code",
   "execution_count": 13,
   "id": "0e2044a9",
   "metadata": {},
   "outputs": [],
   "source": [
    "smotified_data = X\n",
    "smotified_data['transaction_completed'] = y"
   ]
  },
  {
   "cell_type": "code",
   "execution_count": 14,
   "id": "b649375f",
   "metadata": {},
   "outputs": [
    {
     "data": {
      "text/plain": [
       "<matplotlib.legend.Legend at 0x2b73d7ca3d0>"
      ]
     },
     "execution_count": 14,
     "metadata": {},
     "output_type": "execute_result"
    },
    {
     "data": {
      "image/png": "[encoded data removed]",
      "text/plain": [
       "<Figure size 1440x1080 with 1 Axes>"
      ]
     },
     "metadata": {
      "needs_background": "light"
     },
     "output_type": "display_data"
    }
   ],
   "source": [
    "groups_2 = smotified_data.groupby('completed_transaction')\n",
    "\n",
    "for name, group in groups_2:\n",
    "    plt.scatter(group.purposeful_shelves_pageviews, group.pages_visited, label=name)\n",
    "\n",
    "plt.legend()"
   ]
  },
  {
   "cell_type": "code",
   "execution_count": 15,
   "id": "e1d38ff9",
   "metadata": {},
   "outputs": [
    {
     "data": {
      "text/html": [
       "<div>\n",
       "<style scoped>\n",
       "    .dataframe tbody tr th:only-of-type {\n",
       "        vertical-align: middle;\n",
       "    }\n",
       "\n",
       "    .dataframe tbody tr th {\n",
       "        vertical-align: top;\n",
       "    }\n",
       "\n",
       "    .dataframe thead th {\n",
       "        text-align: right;\n",
       "    }\n",
       "</style>\n",
       "<table border=\"1\" class=\"dataframe\">\n",
       "  <thead>\n",
       "    <tr style=\"text-align: right;\">\n",
       "      <th></th>\n",
       "      <th>session_id</th>\n",
       "      <th>visited_purposeful_shelves</th>\n",
       "    </tr>\n",
       "    <tr>\n",
       "      <th>transaction_completed</th>\n",
       "      <th></th>\n",
       "      <th></th>\n",
       "    </tr>\n",
       "  </thead>\n",
       "  <tbody>\n",
       "    <tr>\n",
       "      <th>0</th>\n",
       "      <td>1.657477e+09</td>\n",
       "      <td>0.058174</td>\n",
       "    </tr>\n",
       "    <tr>\n",
       "      <th>1</th>\n",
       "      <td>1.660556e+09</td>\n",
       "      <td>0.270233</td>\n",
       "    </tr>\n",
       "  </tbody>\n",
       "</table>\n",
       "</div>"
      ],
      "text/plain": [
       "                         session_id  visited_purposeful_shelves\n",
       "transaction_completed                                          \n",
       "0                      1.657477e+09                    0.058174\n",
       "1                      1.660556e+09                    0.270233"
      ]
     },
     "execution_count": 15,
     "metadata": {},
     "output_type": "execute_result"
    }
   ],
   "source": [
    "smotified_data[['transaction_completed', 'session_id', 'visited_purposeful_shelves']].groupby(['transaction_completed']).mean()"
   ]
  },
  {
   "cell_type": "code",
   "execution_count": 16,
   "id": "09779826",
   "metadata": {},
   "outputs": [
    {
     "data": {
      "text/html": [
       "<div>\n",
       "<style scoped>\n",
       "    .dataframe tbody tr th:only-of-type {\n",
       "        vertical-align: middle;\n",
       "    }\n",
       "\n",
       "    .dataframe tbody tr th {\n",
       "        vertical-align: top;\n",
       "    }\n",
       "\n",
       "    .dataframe thead th {\n",
       "        text-align: right;\n",
       "    }\n",
       "</style>\n",
       "<table border=\"1\" class=\"dataframe\">\n",
       "  <thead>\n",
       "    <tr style=\"text-align: right;\">\n",
       "      <th></th>\n",
       "      <th>session_id</th>\n",
       "      <th>pages_visited</th>\n",
       "    </tr>\n",
       "    <tr>\n",
       "      <th>transaction_completed</th>\n",
       "      <th></th>\n",
       "      <th></th>\n",
       "    </tr>\n",
       "  </thead>\n",
       "  <tbody>\n",
       "    <tr>\n",
       "      <th>0</th>\n",
       "      <td>1.657477e+09</td>\n",
       "      <td>16.893962</td>\n",
       "    </tr>\n",
       "    <tr>\n",
       "      <th>1</th>\n",
       "      <td>1.660556e+09</td>\n",
       "      <td>59.756996</td>\n",
       "    </tr>\n",
       "  </tbody>\n",
       "</table>\n",
       "</div>"
      ],
      "text/plain": [
       "                         session_id  pages_visited\n",
       "transaction_completed                             \n",
       "0                      1.657477e+09      16.893962\n",
       "1                      1.660556e+09      59.756996"
      ]
     },
     "execution_count": 16,
     "metadata": {},
     "output_type": "execute_result"
    }
   ],
   "source": [
    "smotified_data[['transaction_completed', 'session_id', 'pages_visited']].groupby(['transaction_completed']).mean()"
   ]
  },
  {
   "cell_type": "code",
   "execution_count": null,
   "id": "c7386b5a",
   "metadata": {},
   "outputs": [],
   "source": []
  }
 ],
 "metadata": {
  "kernelspec": {
   "display_name": "Python 3 (ipykernel)",
   "language": "python",
   "name": "python3"
  },
  "language_info": {
   "codemirror_mode": {
    "name": "ipython",
    "version": 3
   },
   "file_extension": ".py",
   "mimetype": "text/x-python",
   "name": "python",
   "nbconvert_exporter": "python",
   "pygments_lexer": "ipython3",
   "version": "3.9.7"
  }
 },
 "nbformat": 4,
 "nbformat_minor": 5
}
